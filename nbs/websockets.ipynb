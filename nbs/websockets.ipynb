{
 "cells": [
  {
   "cell_type": "code",
   "execution_count": 1,
   "id": "49bcdb80",
   "metadata": {},
   "outputs": [],
   "source": [
    "import sys\n",
    "sys.path.append('../testing')\n",
    "\n",
    "from core import create_user_client, request_bot,get_transcript"
   ]
  },
  {
   "cell_type": "code",
   "execution_count": 2,
   "id": "ccf3242e",
   "metadata": {},
   "outputs": [],
   "source": [
    "# Cell 1: Imports\n",
    "import websockets, httpx, json\n",
    "\n",
    "from vexa_client.vexa import parse_url, VexaClient\n",
    "\n",
    "# Cell 2: Config  \n",
    "API_KEY = \"RZU8xyWO3ubcfBEVRVGPwuQyr8DCPCcawERQOvML\"\n",
    "native_meeting_id = \"kvd-vsas-xrh\"\n",
    "platform = 'google_meet'\n",
    "passcode = None\n",
    "\n"
   ]
  },
  {
   "cell_type": "code",
   "execution_count": 3,
   "id": "94b7ce8d",
   "metadata": {},
   "outputs": [],
   "source": [
    "domain = 'localhost:18056'\n",
    "\n",
    "API_BASE = f\"http://{domain}\"\n",
    "\n",
    "WS_URL = f\"ws://{domain}/ws\""
   ]
  },
  {
   "cell_type": "code",
   "execution_count": 9,
   "id": "a50007b0",
   "metadata": {},
   "outputs": [],
   "source": [
    "rest_client = VexaClient(base_url=API_BASE,api_key=API_KEY)"
   ]
  },
  {
   "cell_type": "code",
   "execution_count": 10,
   "id": "fdcd3f5c",
   "metadata": {},
   "outputs": [
    {
     "name": "stdout",
     "output_type": "stream",
     "text": [
      "\n",
      "DEBUG: Making POST request to http://localhost:18056/bots\n",
      "DEBUG: Headers: {'Content-Type': 'application/json', 'X-API-Key': 'RZU8xyWO3ubcfBEVRVGPwuQyr8DCPCcawERQOvML'}\n",
      "DEBUG: Params: None\n",
      "DEBUG: JSON data: {'platform': 'google_meet', 'native_meeting_id': 'kvd-vsas-xrh', 'bot_name': 'Vexa bot', 'language': 'en', 'task': 'transcribe'}\n",
      "DEBUG: Response status: 201\n",
      "DEBUG: Response headers: {'date': 'Sat, 11 Oct 2025 17:44:12 GMT, Sat, 11 Oct 2025 17:44:12 GMT', 'server': 'uvicorn, uvicorn', 'content-length': '386', 'content-type': 'application/json'}\n",
      "DEBUG: Response content: {\"id\":1821,\"user_id\":1506,\"platform\":\"google_meet\",\"native_meeting_id\":\"kvd-vsas-xrh\",\"constructed_meeting_url\":\"https://meet.google.com/kvd-vsas-xrh\",\"status\":\"requested\",\"bot_container_id\":\"3937e9a68dd7bc8997cb8c74ee8edd827de69c60a766631708d740205338a980\",\"start_time\":null,\"end_time\":null,\"data\":{},\"created_at\":\"2025-10-11T17:44:13.243484\",\"updated_at\":\"2025-10-11T17:44:13.251490\"}...\n"
     ]
    },
    {
     "data": {
      "text/plain": [
       "{'id': 1821,\n",
       " 'user_id': 1506,\n",
       " 'platform': 'google_meet',\n",
       " 'native_meeting_id': 'kvd-vsas-xrh',\n",
       " 'constructed_meeting_url': 'https://meet.google.com/kvd-vsas-xrh',\n",
       " 'status': 'requested',\n",
       " 'bot_container_id': '3937e9a68dd7bc8997cb8c74ee8edd827de69c60a766631708d740205338a980',\n",
       " 'start_time': None,\n",
       " 'end_time': None,\n",
       " 'data': {},\n",
       " 'created_at': '2025-10-11T17:44:13.243484',\n",
       " 'updated_at': '2025-10-11T17:44:13.251490'}"
      ]
     },
     "execution_count": 10,
     "metadata": {},
     "output_type": "execute_result"
    }
   ],
   "source": [
    "request_bot(rest_client,platform, native_meeting_id, passcode=passcode, bot_name=\"Vexa bot\", language='en')\n"
   ]
  },
  {
   "cell_type": "code",
   "execution_count": 12,
   "id": "76e7ab04",
   "metadata": {},
   "outputs": [],
   "source": [
    "import pandas as pd"
   ]
  },
  {
   "cell_type": "code",
   "execution_count": 16,
   "id": "394660df",
   "metadata": {},
   "outputs": [
    {
     "name": "stdout",
     "output_type": "stream",
     "text": [
      "Received: subscribed\n",
      "{'type': 'subscribed', 'meetings': [{'platform': 'google_meet', 'native_id': 'kvd-vsas-xrh'}]}\n",
      "Received: transcript.mutable\n"
     ]
    },
    {
     "data": {
      "text/plain": [
       "[{'start': 141.526,\n",
       "  'text': \" I don't know what to say.\",\n",
       "  'end_time': 146.526,\n",
       "  'language': 'en',\n",
       "  'speaker': 'Dmitriy Grankin',\n",
       "  'session_uid': 'c3a244a0-bc60-4212-9cc7-c79a7d552669',\n",
       "  'speaker_mapping_status': 'MAPPED',\n",
       "  'absolute_start_time': '2025-10-11T17:46:59.601357+00:00',\n",
       "  'absolute_end_time': '2025-10-11T17:47:04.601357+00:00'},\n",
       " {'start': 146.526,\n",
       "  'text': \" I don't know what to say.\",\n",
       "  'end_time': 149.526,\n",
       "  'language': 'en',\n",
       "  'speaker': 'Dmitriy Grankin',\n",
       "  'session_uid': 'c3a244a0-bc60-4212-9cc7-c79a7d552669',\n",
       "  'speaker_mapping_status': 'MAPPED',\n",
       "  'absolute_start_time': '2025-10-11T17:47:04.601357+00:00',\n",
       "  'absolute_end_time': '2025-10-11T17:47:07.601357+00:00'},\n",
       " {'start': 149.526,\n",
       "  'text': \" I don't know what to say.\",\n",
       "  'end_time': 151.526,\n",
       "  'language': 'en',\n",
       "  'speaker': 'Dmitriy Grankin',\n",
       "  'session_uid': 'c3a244a0-bc60-4212-9cc7-c79a7d552669',\n",
       "  'speaker_mapping_status': 'MAPPED',\n",
       "  'absolute_start_time': '2025-10-11T17:47:07.601357+00:00',\n",
       "  'absolute_end_time': '2025-10-11T17:47:09.601357+00:00'}]"
      ]
     },
     "metadata": {},
     "output_type": "display_data"
    },
    {
     "ename": "CancelledError",
     "evalue": "",
     "output_type": "error",
     "traceback": [
      "\u001b[0;31m---------------------------------------------------------------------------\u001b[0m",
      "\u001b[0;31mCancelledError\u001b[0m                            Traceback (most recent call last)",
      "Cell \u001b[0;32mIn[16], line 7\u001b[0m\n\u001b[1;32m      4\u001b[0m \u001b[38;5;28;01masync\u001b[39;00m \u001b[38;5;28;01mwith\u001b[39;00m websockets\u001b[38;5;241m.\u001b[39mconnect(WS_URL, additional_headers\u001b[38;5;241m=\u001b[39m[(\u001b[38;5;124m\"\u001b[39m\u001b[38;5;124mX-API-Key\u001b[39m\u001b[38;5;124m\"\u001b[39m, API_KEY)]) \u001b[38;5;28;01mas\u001b[39;00m ws:\n\u001b[1;32m      5\u001b[0m     \u001b[38;5;28;01mawait\u001b[39;00m ws\u001b[38;5;241m.\u001b[39msend(json\u001b[38;5;241m.\u001b[39mdumps({\u001b[38;5;124m\"\u001b[39m\u001b[38;5;124maction\u001b[39m\u001b[38;5;124m\"\u001b[39m: \u001b[38;5;124m\"\u001b[39m\u001b[38;5;124msubscribe\u001b[39m\u001b[38;5;124m\"\u001b[39m, \u001b[38;5;124m\"\u001b[39m\u001b[38;5;124mmeetings\u001b[39m\u001b[38;5;124m\"\u001b[39m: [{\u001b[38;5;124m\"\u001b[39m\u001b[38;5;124mplatform\u001b[39m\u001b[38;5;124m\"\u001b[39m: platform, \u001b[38;5;124m\"\u001b[39m\u001b[38;5;124mnative_id\u001b[39m\u001b[38;5;124m\"\u001b[39m: native_meeting_id}]}))\n\u001b[0;32m----> 7\u001b[0m     \u001b[38;5;28;01masync\u001b[39;00m \u001b[38;5;28;01mfor\u001b[39;00m frame \u001b[38;5;129;01min\u001b[39;00m ws:\n\u001b[1;32m      8\u001b[0m         msg \u001b[38;5;241m=\u001b[39m json\u001b[38;5;241m.\u001b[39mloads(frame)\n\u001b[1;32m      9\u001b[0m         \u001b[38;5;28mprint\u001b[39m(\u001b[38;5;124mf\u001b[39m\u001b[38;5;124m\"\u001b[39m\u001b[38;5;124mReceived: \u001b[39m\u001b[38;5;132;01m{\u001b[39;00mmsg\u001b[38;5;241m.\u001b[39mget(\u001b[38;5;124m'\u001b[39m\u001b[38;5;124mtype\u001b[39m\u001b[38;5;124m'\u001b[39m)\u001b[38;5;132;01m}\u001b[39;00m\u001b[38;5;124m\"\u001b[39m)\n",
      "File \u001b[0;32m~/anaconda3/envs/vexa/lib/python3.11/site-packages/websockets/asyncio/connection.py:242\u001b[0m, in \u001b[0;36mConnection.__aiter__\u001b[0;34m(self)\u001b[0m\n\u001b[1;32m    240\u001b[0m \u001b[38;5;28;01mtry\u001b[39;00m:\n\u001b[1;32m    241\u001b[0m     \u001b[38;5;28;01mwhile\u001b[39;00m \u001b[38;5;28;01mTrue\u001b[39;00m:\n\u001b[0;32m--> 242\u001b[0m         \u001b[38;5;28;01myield\u001b[39;00m \u001b[38;5;28;01mawait\u001b[39;00m \u001b[38;5;28mself\u001b[39m\u001b[38;5;241m.\u001b[39mrecv()\n\u001b[1;32m    243\u001b[0m \u001b[38;5;28;01mexcept\u001b[39;00m ConnectionClosedOK:\n\u001b[1;32m    244\u001b[0m     \u001b[38;5;28;01mreturn\u001b[39;00m\n",
      "File \u001b[0;32m~/anaconda3/envs/vexa/lib/python3.11/site-packages/websockets/asyncio/connection.py:303\u001b[0m, in \u001b[0;36mConnection.recv\u001b[0;34m(self, decode)\u001b[0m\n\u001b[1;32m    256\u001b[0m \u001b[38;5;250m\u001b[39m\u001b[38;5;124;03m\"\"\"\u001b[39;00m\n\u001b[1;32m    257\u001b[0m \u001b[38;5;124;03mReceive the next message.\u001b[39;00m\n\u001b[1;32m    258\u001b[0m \n\u001b[0;32m   (...)\u001b[0m\n\u001b[1;32m    300\u001b[0m \n\u001b[1;32m    301\u001b[0m \u001b[38;5;124;03m\"\"\"\u001b[39;00m\n\u001b[1;32m    302\u001b[0m \u001b[38;5;28;01mtry\u001b[39;00m:\n\u001b[0;32m--> 303\u001b[0m     \u001b[38;5;28;01mreturn\u001b[39;00m \u001b[38;5;28;01mawait\u001b[39;00m \u001b[38;5;28mself\u001b[39m\u001b[38;5;241m.\u001b[39mrecv_messages\u001b[38;5;241m.\u001b[39mget(decode)\n\u001b[1;32m    304\u001b[0m \u001b[38;5;28;01mexcept\u001b[39;00m \u001b[38;5;167;01mEOFError\u001b[39;00m:\n\u001b[1;32m    305\u001b[0m     \u001b[38;5;28;01mpass\u001b[39;00m\n",
      "File \u001b[0;32m~/anaconda3/envs/vexa/lib/python3.11/site-packages/websockets/asyncio/messages.py:159\u001b[0m, in \u001b[0;36mAssembler.get\u001b[0;34m(self, decode)\u001b[0m\n\u001b[1;32m    154\u001b[0m \u001b[38;5;66;03m# Locking with get_in_progress prevents concurrent execution\u001b[39;00m\n\u001b[1;32m    155\u001b[0m \u001b[38;5;66;03m# until get() fetches a complete message or is canceled.\u001b[39;00m\n\u001b[1;32m    157\u001b[0m \u001b[38;5;28;01mtry\u001b[39;00m:\n\u001b[1;32m    158\u001b[0m     \u001b[38;5;66;03m# First frame\u001b[39;00m\n\u001b[0;32m--> 159\u001b[0m     frame \u001b[38;5;241m=\u001b[39m \u001b[38;5;28;01mawait\u001b[39;00m \u001b[38;5;28mself\u001b[39m\u001b[38;5;241m.\u001b[39mframes\u001b[38;5;241m.\u001b[39mget(\u001b[38;5;129;01mnot\u001b[39;00m \u001b[38;5;28mself\u001b[39m\u001b[38;5;241m.\u001b[39mclosed)\n\u001b[1;32m    160\u001b[0m     \u001b[38;5;28mself\u001b[39m\u001b[38;5;241m.\u001b[39mmaybe_resume()\n\u001b[1;32m    161\u001b[0m     \u001b[38;5;28;01massert\u001b[39;00m frame\u001b[38;5;241m.\u001b[39mopcode \u001b[38;5;129;01mis\u001b[39;00m OP_TEXT \u001b[38;5;129;01mor\u001b[39;00m frame\u001b[38;5;241m.\u001b[39mopcode \u001b[38;5;129;01mis\u001b[39;00m OP_BINARY\n",
      "File \u001b[0;32m~/anaconda3/envs/vexa/lib/python3.11/site-packages/websockets/asyncio/messages.py:51\u001b[0m, in \u001b[0;36mSimpleQueue.get\u001b[0;34m(self, block)\u001b[0m\n\u001b[1;32m     49\u001b[0m \u001b[38;5;28mself\u001b[39m\u001b[38;5;241m.\u001b[39mget_waiter \u001b[38;5;241m=\u001b[39m \u001b[38;5;28mself\u001b[39m\u001b[38;5;241m.\u001b[39mloop\u001b[38;5;241m.\u001b[39mcreate_future()\n\u001b[1;32m     50\u001b[0m \u001b[38;5;28;01mtry\u001b[39;00m:\n\u001b[0;32m---> 51\u001b[0m     \u001b[38;5;28;01mawait\u001b[39;00m \u001b[38;5;28mself\u001b[39m\u001b[38;5;241m.\u001b[39mget_waiter\n\u001b[1;32m     52\u001b[0m \u001b[38;5;28;01mfinally\u001b[39;00m:\n\u001b[1;32m     53\u001b[0m     \u001b[38;5;28mself\u001b[39m\u001b[38;5;241m.\u001b[39mget_waiter\u001b[38;5;241m.\u001b[39mcancel()\n",
      "\u001b[0;31mCancelledError\u001b[0m: "
     ]
    }
   ],
   "source": [
    "msgs = []\n",
    "\n",
    "# Cell 4: Connect WebSocket (runs until stopped)\n",
    "async with websockets.connect(WS_URL, additional_headers=[(\"X-API-Key\", API_KEY)]) as ws:\n",
    "    await ws.send(json.dumps({\"action\": \"subscribe\", \"meetings\": [{\"platform\": platform, \"native_id\": native_meeting_id}]}))\n",
    "    \n",
    "    async for frame in ws:\n",
    "        msg = json.loads(frame)\n",
    "        print(f\"Received: {msg.get('type')}\")\n",
    "        msgs.append(msg)\n",
    "        \n",
    "        if msg['type'] == 'transcript.mutable':\n",
    "            display(msg['payload']['segments'])\n",
    "        else:\n",
    "            print(msg)\n",
    "    "
   ]
  },
  {
   "cell_type": "code",
   "execution_count": 17,
   "id": "c52ba928",
   "metadata": {},
   "outputs": [
    {
     "name": "stdout",
     "output_type": "stream",
     "text": [
      "\n",
      "DEBUG: Making DELETE request to http://localhost:18056/bots/google_meet/kvd-vsas-xrh\n",
      "DEBUG: Headers: {'Content-Type': 'application/json', 'X-API-Key': 'RZU8xyWO3ubcfBEVRVGPwuQyr8DCPCcawERQOvML'}\n",
      "DEBUG: Params: None\n",
      "DEBUG: JSON data: None\n",
      "DEBUG: Response status: 202\n",
      "DEBUG: Response headers: {'date': 'Sat, 11 Oct 2025 17:47:22 GMT, Sat, 11 Oct 2025 17:47:22 GMT', 'server': 'uvicorn, uvicorn', 'content-length': '59', 'content-type': 'application/json'}\n",
      "DEBUG: Response content: {\"message\":\"Stop request accepted and is being processed.\"}...\n"
     ]
    },
    {
     "data": {
      "text/plain": [
       "{'message': 'Stop request accepted and is being processed.'}"
      ]
     },
     "execution_count": 17,
     "metadata": {},
     "output_type": "execute_result"
    }
   ],
   "source": [
    "rest_client.stop_bot(platform=platform,native_meeting_id=native_meeting_id)"
   ]
  }
 ],
 "metadata": {
  "kernelspec": {
   "display_name": "vexa",
   "language": "python",
   "name": "python3"
  },
  "language_info": {
   "codemirror_mode": {
    "name": "ipython",
    "version": 3
   },
   "file_extension": ".py",
   "mimetype": "text/x-python",
   "name": "python",
   "nbconvert_exporter": "python",
   "pygments_lexer": "ipython3",
   "version": "3.11.10"
  }
 },
 "nbformat": 4,
 "nbformat_minor": 5
}
