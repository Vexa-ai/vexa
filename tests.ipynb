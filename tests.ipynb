{
 "cells": [
  {
   "cell_type": "code",
   "execution_count": 954,
   "metadata": {},
   "outputs": [],
   "source": [
    "# Load environment variables from .env file\n",
    "from dotenv import load_dotenv\n",
    "\n",
    "# Load .env file\n",
    "load_dotenv()\n",
    "\n",
    "import os\n",
    "from vexa_client import VexaClient\n",
    "\n",
    "\n",
    "import os\n",
    "\n",
    "TOKEN = os.getenv('ADMIN_API_TOKEN')"
   ]
  },
  {
   "cell_type": "code",
   "execution_count": 955,
   "metadata": {},
   "outputs": [],
   "source": [
    "admin_client = VexaClient(\n",
    "    base_url=\"https://gateway.dev.vexa.ai\",\n",
    "    admin_key=TOKEN  # From docker-compose.yml\n",
    ")"
   ]
  },
  {
   "cell_type": "code",
   "execution_count": 956,
   "metadata": {},
   "outputs": [],
   "source": [
    "import random"
   ]
  },
  {
   "cell_type": "code",
   "execution_count": null,
   "metadata": {},
   "outputs": [],
   "source": []
  },
  {
   "cell_type": "code",
   "execution_count": 957,
   "metadata": {},
   "outputs": [
    {
     "name": "stdout",
     "output_type": "stream",
     "text": [
      "\n",
      "DEBUG: Making POST request to https://gateway.dev.vexa.ai/admin/users\n",
      "DEBUG: Headers: {'Content-Type': 'application/json', 'X-Admin-API-Key': 'KJnl2jjk&'}\n",
      "DEBUG: Params: None\n",
      "DEBUG: JSON data: {'email': '568897@example.com', 'name': 'test'}\n",
      "DEBUG: Response status: 201\n",
      "DEBUG: Response headers: {'Server': 'nginx/1.18.0 (Ubuntu)', 'Date': 'Mon, 14 Apr 2025 20:44:00 GMT', 'Content-Type': 'application/json', 'Content-Length': '111', 'Connection': 'keep-alive'}\n",
      "DEBUG: Response content: {\"email\":\"568897@example.com\",\"name\":\"test\",\"image_url\":null,\"id\":25,\"created_at\":\"2025-04-14T20:44:00.000546\"}...\n"
     ]
    }
   ],
   "source": [
    "new_user = admin_client.create_user(email=f\"{random.randint(1, 1000000)}@example.com\", name=\"test\")\n"
   ]
  },
  {
   "cell_type": "code",
   "execution_count": 958,
   "metadata": {},
   "outputs": [],
   "source": [
    "\n",
    "user_id = new_user['id']"
   ]
  },
  {
   "cell_type": "code",
   "execution_count": 959,
   "metadata": {},
   "outputs": [
    {
     "name": "stdout",
     "output_type": "stream",
     "text": [
      "\n",
      "DEBUG: Making POST request to https://gateway.dev.vexa.ai/admin/users/25/tokens\n",
      "DEBUG: Headers: {'Content-Type': 'application/json', 'X-Admin-API-Key': 'KJnl2jjk&'}\n",
      "DEBUG: Params: None\n",
      "DEBUG: JSON data: None\n",
      "DEBUG: Response status: 201\n",
      "DEBUG: Response headers: {'Server': 'nginx/1.18.0 (Ubuntu)', 'Date': 'Mon, 14 Apr 2025 20:44:00 GMT', 'Content-Type': 'application/json', 'Content-Length': '115', 'Connection': 'keep-alive'}\n",
      "DEBUG: Response content: {\"user_id\":25,\"id\":26,\"token\":\"gifVVD8vAqWelVySaV6k5GQqH6WFhVXIXiclGnjp\",\"created_at\":\"2025-04-14T20:44:00.041703\"}...\n"
     ]
    }
   ],
   "source": [
    "token_info = admin_client.create_token(user_id=user_id)\n",
    "user_api_key = token_info['token']"
   ]
  },
  {
   "cell_type": "code",
   "execution_count": 960,
   "metadata": {},
   "outputs": [
    {
     "data": {
      "text/plain": [
       "'gifVVD8vAqWelVySaV6k5GQqH6WFhVXIXiclGnjp'"
      ]
     },
     "execution_count": 960,
     "metadata": {},
     "output_type": "execute_result"
    }
   ],
   "source": [
    "user_api_key"
   ]
  },
  {
   "cell_type": "code",
   "execution_count": 961,
   "metadata": {},
   "outputs": [],
   "source": [
    "client = VexaClient(\n",
    "    base_url=\"https://gateway.dev.vexa.ai\",\n",
    "    api_key=user_api_key\n",
    ")"
   ]
  },
  {
   "cell_type": "code",
   "execution_count": 962,
   "metadata": {},
   "outputs": [],
   "source": [
    "meeting_url=\"https://meet.google.com/hhs-bkmm-zqg\"\n",
    "native_meeting_id = meeting_url.split(\"/\")[-1]  # \"xyz-abcd-123\""
   ]
  },
  {
   "cell_type": "code",
   "execution_count": 963,
   "metadata": {},
   "outputs": [
    {
     "name": "stdout",
     "output_type": "stream",
     "text": [
      "\n",
      "DEBUG: Making POST request to https://gateway.dev.vexa.ai/bots\n",
      "DEBUG: Headers: {'Content-Type': 'application/json', 'X-API-Key': 'gifVVD8vAqWelVySaV6k5GQqH6WFhVXIXiclGnjp'}\n",
      "DEBUG: Params: None\n",
      "DEBUG: JSON data: {'platform': 'google_meet', 'native_meeting_id': 'hhs-bkmm-zqg', 'bot_name': 'MyBot'}\n"
     ]
    },
    {
     "name": "stdout",
     "output_type": "stream",
     "text": [
      "DEBUG: Response status: 201\n",
      "DEBUG: Response headers: {'Server': 'nginx/1.18.0 (Ubuntu)', 'Date': 'Mon, 14 Apr 2025 20:44:00 GMT', 'Content-Type': 'application/json', 'Content-Length': '393', 'Connection': 'keep-alive'}\n",
      "DEBUG: Response content: {\"id\":23,\"user_id\":25,\"platform\":\"google_meet\",\"native_meeting_id\":\"hhs-bkmm-zqg\",\"constructed_meeting_url\":\"https://meet.google.com/hhs-bkmm-zqg\",\"status\":\"active\",\"bot_container_id\":\"f7f9058dd30344c12017702f42db15aef7e2d0b5cbc9169589388a01d0149b43\",\"start_time\":\"2025-04-14T20:44:00.527276\",\"end_time\":null,\"created_at\":\"2025-04-14T20:44:00.173951\",\"updated_at\":\"2025-04-14T20:44:00.189394\"}...\n"
     ]
    }
   ],
   "source": [
    "meeting_info = client.request_bot(\n",
    "    platform=\"google_meet\",\n",
    "    native_meeting_id=native_meeting_id,\n",
    "    bot_name=\"MyBot\"\n",
    ")\n",
    "meeting_id = meeting_info['id']"
   ]
  },
  {
   "cell_type": "code",
   "execution_count": 964,
   "metadata": {},
   "outputs": [
    {
     "name": "stdout",
     "output_type": "stream",
     "text": [
      "\n",
      "DEBUG: Making GET request to https://gateway.dev.vexa.ai/meetings\n",
      "DEBUG: Headers: {'Content-Type': 'application/json', 'X-API-Key': 'gifVVD8vAqWelVySaV6k5GQqH6WFhVXIXiclGnjp'}\n",
      "DEBUG: Params: None\n",
      "DEBUG: JSON data: None\n",
      "DEBUG: Response status: 200\n",
      "DEBUG: Response headers: {'Server': 'nginx/1.18.0 (Ubuntu)', 'Date': 'Mon, 14 Apr 2025 20:44:05 GMT', 'Content-Type': 'application/json', 'Content-Length': '408', 'Connection': 'keep-alive'}\n",
      "DEBUG: Response content: {\"meetings\":[{\"id\":23,\"user_id\":25,\"platform\":\"google_meet\",\"native_meeting_id\":\"hhs-bkmm-zqg\",\"constructed_meeting_url\":\"https://meet.google.com/hhs-bkmm-zqg\",\"status\":\"active\",\"bot_container_id\":\"f7f9058dd30344c12017702f42db15aef7e2d0b5cbc9169589388a01d0149b43\",\"start_time\":\"2025-04-14T20:44:00.527276\",\"end_time\":null,\"created_at\":\"2025-04-14T20:44:00.173951\",\"updated_at\":\"2025-04-14T20:44:00.189394\"}]}...\n"
     ]
    }
   ],
   "source": [
    "meetings = client.get_meetings()"
   ]
  },
  {
   "cell_type": "code",
   "execution_count": 965,
   "metadata": {},
   "outputs": [
    {
     "data": {
      "text/plain": [
       "23"
      ]
     },
     "execution_count": 965,
     "metadata": {},
     "output_type": "execute_result"
    }
   ],
   "source": [
    "meeting_id"
   ]
  },
  {
   "cell_type": "code",
   "execution_count": 1014,
   "metadata": {},
   "outputs": [
    {
     "name": "stdout",
     "output_type": "stream",
     "text": [
      "\n",
      "DEBUG: Making GET request to https://gateway.dev.vexa.ai/transcripts/google_meet/hhs-bkmm-zqg\n",
      "DEBUG: Headers: {'Content-Type': 'application/json', 'X-API-Key': 'gifVVD8vAqWelVySaV6k5GQqH6WFhVXIXiclGnjp'}\n",
      "DEBUG: Params: None\n",
      "DEBUG: JSON data: None\n",
      "DEBUG: Response status: 200\n",
      "DEBUG: Response headers: {'Server': 'nginx/1.18.0 (Ubuntu)', 'Date': 'Mon, 14 Apr 2025 20:46:18 GMT', 'Content-Type': 'application/json', 'Content-Length': '5966', 'Connection': 'keep-alive'}\n",
      "DEBUG: Response content: {\"id\":23,\"platform\":\"google_meet\",\"native_meeting_id\":\"hhs-bkmm-zqg\",\"constructed_meeting_url\":\"https://meet.google.com/hhs-bkmm-zqg\",\"status\":\"active\",\"start_time\":\"2025-04-14T20:44:00.527276\",\"end_time\":null,\"segments\":[{\"start\":1.022,\"end\":1.522,\"text\":\" Fuck.\",\"language\":null,\"created_at\":\"2025-04-14T20:44:21.754120\",\"speaker\":null},{\"start\":1.022,\"end\":2.229,\"text\":\" Fuck\",\"language\":null,\"created_at\":\"2025-04-14T20:44:21.837561\",\"speaker\":null},{\"start\":1.022,\"end\":2.322,\"text\":\" Fuck\",\"la...\n"
     ]
    },
    {
     "data": {
      "text/html": [
       "<div>\n",
       "<style scoped>\n",
       "    .dataframe tbody tr th:only-of-type {\n",
       "        vertical-align: middle;\n",
       "    }\n",
       "\n",
       "    .dataframe tbody tr th {\n",
       "        vertical-align: top;\n",
       "    }\n",
       "\n",
       "    .dataframe thead th {\n",
       "        text-align: right;\n",
       "    }\n",
       "</style>\n",
       "<table border=\"1\" class=\"dataframe\">\n",
       "  <thead>\n",
       "    <tr style=\"text-align: right;\">\n",
       "      <th></th>\n",
       "      <th>start</th>\n",
       "      <th>end</th>\n",
       "      <th>text</th>\n",
       "      <th>language</th>\n",
       "      <th>created_at</th>\n",
       "      <th>speaker</th>\n",
       "    </tr>\n",
       "  </thead>\n",
       "  <tbody>\n",
       "    <tr>\n",
       "      <th>37</th>\n",
       "      <td>54.854</td>\n",
       "      <td>56.468</td>\n",
       "      <td>The spiritual orchestra.</td>\n",
       "      <td>None</td>\n",
       "      <td>2025-04-14T20:45:16.246221</td>\n",
       "      <td>None</td>\n",
       "    </tr>\n",
       "    <tr>\n",
       "      <th>36</th>\n",
       "      <td>53.404</td>\n",
       "      <td>56.404</td>\n",
       "      <td>and the spiritual orchestra.</td>\n",
       "      <td>None</td>\n",
       "      <td>2025-04-14T20:45:16.386034</td>\n",
       "      <td>None</td>\n",
       "    </tr>\n",
       "    <tr>\n",
       "      <th>35</th>\n",
       "      <td>49.194</td>\n",
       "      <td>56.404</td>\n",
       "      <td>and the spiritual orchestra.</td>\n",
       "      <td>None</td>\n",
       "      <td>2025-04-14T20:45:19.157789</td>\n",
       "      <td>None</td>\n",
       "    </tr>\n",
       "    <tr>\n",
       "      <th>38</th>\n",
       "      <td>60.000</td>\n",
       "      <td>72.000</td>\n",
       "      <td>This orchestra has gone somewhere, it is not ...</td>\n",
       "      <td>None</td>\n",
       "      <td>2025-04-14T20:45:35.962010</td>\n",
       "      <td>None</td>\n",
       "    </tr>\n",
       "    <tr>\n",
       "      <th>40</th>\n",
       "      <td>81.334</td>\n",
       "      <td>83.834</td>\n",
       "      <td>Can you see how I was talking?</td>\n",
       "      <td>None</td>\n",
       "      <td>2025-04-14T20:45:45.020206</td>\n",
       "      <td>None</td>\n",
       "    </tr>\n",
       "  </tbody>\n",
       "</table>\n",
       "</div>"
      ],
      "text/plain": [
       "     start     end                                               text  \\\n",
       "37  54.854  56.468                           The spiritual orchestra.   \n",
       "36  53.404  56.404                       and the spiritual orchestra.   \n",
       "35  49.194  56.404                       and the spiritual orchestra.   \n",
       "38  60.000  72.000   This orchestra has gone somewhere, it is not ...   \n",
       "40  81.334  83.834                     Can you see how I was talking?   \n",
       "\n",
       "   language                  created_at speaker  \n",
       "37     None  2025-04-14T20:45:16.246221    None  \n",
       "36     None  2025-04-14T20:45:16.386034    None  \n",
       "35     None  2025-04-14T20:45:19.157789    None  \n",
       "38     None  2025-04-14T20:45:35.962010    None  \n",
       "40     None  2025-04-14T20:45:45.020206    None  "
      ]
     },
     "execution_count": 1014,
     "metadata": {},
     "output_type": "execute_result"
    }
   ],
   "source": [
    "import pandas as pd\n",
    "transcript = client.get_transcript(native_meeting_id=native_meeting_id,platform='google_meet')\n",
    "segments = transcript.get('segments', [])\n",
    "df = pd.DataFrame(transcript['segments']).sort_values(['created_at','start']).drop_duplicates('start',keep='last')\n",
    "df.tail(5)"
   ]
  },
  {
   "cell_type": "code",
   "execution_count": null,
   "metadata": {},
   "outputs": [],
   "source": []
  },
  {
   "cell_type": "code",
   "execution_count": null,
   "metadata": {},
   "outputs": [],
   "source": []
  }
 ],
 "metadata": {
  "kernelspec": {
   "display_name": "Python 3",
   "language": "python",
   "name": "python3"
  },
  "language_info": {
   "codemirror_mode": {
    "name": "ipython",
    "version": 3
   },
   "file_extension": ".py",
   "mimetype": "text/x-python",
   "name": "python",
   "nbconvert_exporter": "python",
   "pygments_lexer": "ipython3",
   "version": "3.10.12"
  }
 },
 "nbformat": 4,
 "nbformat_minor": 2
}
